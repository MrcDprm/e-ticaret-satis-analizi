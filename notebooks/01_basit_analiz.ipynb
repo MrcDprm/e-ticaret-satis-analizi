{
  "cells": [
    {
      "cell_type": "markdown",
      "metadata": {},
      "source": [
        "# E-Ticaret Satış Analizi - Basit Analiz\n",
        "\n",
        "Bu notebook'ta e-ticaret verilerini analiz edeceğiz."
      ]
    },
    {
      "cell_type": "code",
      "execution_count": null,
      "metadata": {},
      "outputs": [],
      "source": [
        "# Gerekli kütüphaneleri import edelim\n",
        "import pandas as pd\n",
        "import numpy as np\n",
        "import matplotlib.pyplot as plt\n",
        "import seaborn as sns\n",
        "\n",
        "print(\"Kütüphaneler başarıyla import edildi!\")"
      ]
    },
    {
      "cell_type": "code",
      "execution_count": null,
      "metadata": {},
      "outputs": [],
      "source": [
        "# Veri setini yükle\n",
        "df = pd.read_csv('../data/raw/ecommerce_sales.csv')\n",
        "print(\"Veri seti yüklendi!\")\n",
        "print(f\"Satır sayısı: {len(df)}\")\n",
        "print(f\"Sütun sayısı: {len(df.columns)}\")\n",
        "df.head()"
      ]
    },
    {
      "cell_type": "code",
      "execution_count": null,
      "metadata": {},
      "outputs": [],
      "source": [
        "# Temel istatistikler\n",
        "print(\"Veri seti bilgileri:\")\n",
        "print(df.info())\n",
        "print(\"\\nTemel istatistikler:\")\n",
        "print(df.describe())"
      ]
    },
    {
      "cell_type": "code",
      "execution_count": null,
      "metadata": {},
      "outputs": [],
      "source": [
        "# Kategori bazında satış analizi\n",
        "category_sales = df.groupby('category')['total_amount'].sum().sort_values(ascending=False)\n",
        "print(\"Kategori bazında toplam satış:\")\n",
        "print(category_sales)\n",
        "\n",
        "# Görselleştirme\n",
        "plt.figure(figsize=(10, 6))\n",
        "category_sales.plot(kind='bar')\n",
        "plt.title('Kategori Bazında Toplam Satış')\n",
        "plt.xlabel('Kategori')\n",
        "plt.ylabel('Toplam Satış (TL)')\n",
        "plt.xticks(rotation=45)\n",
        "plt.tight_layout()\n",
        "plt.show()"
      ]
    },
    {
      "cell_type": "code",
      "execution_count": null,
      "metadata": {},
      "outputs": [],
      "source": [
        "# Şehir bazında satış analizi\n",
        "city_sales = df.groupby('customer_city')['total_amount'].sum().sort_values(ascending=False)\n",
        "print(\"Şehir bazında toplam satış:\")\n",
        "print(city_sales)\n",
        "\n",
        "# Görselleştirme\n",
        "plt.figure(figsize=(10, 6))\n",
        "city_sales.plot(kind='bar')\n",
        "plt.title('Şehir Bazında Toplam Satış')\n",
        "plt.xlabel('Şehir')\n",
        "plt.ylabel('Toplam Satış (TL)')\n",
        "plt.xticks(rotation=45)\n",
        "plt.tight_layout()\n",
        "plt.show()"
      ]
    },
    {
      "cell_type": "code",
      "execution_count": null,
      "metadata": {},
      "outputs": [],
      "source": [
        "# Ödeme yöntemi analizi\n",
        "payment_analysis = df.groupby('payment_method')['total_amount'].sum()\n",
        "print(\"Ödeme yöntemi bazında toplam satış:\")\n",
        "print(payment_analysis)\n",
        "\n",
        "# Pasta grafik\n",
        "plt.figure(figsize=(8, 8))\n",
        "plt.pie(payment_analysis.values, labels=payment_analysis.index, autopct='%1.1f%%')\n",
        "plt.title('Ödeme Yöntemi Dağılımı')\n",
        "plt.axis('equal')\n",
        "plt.show()"
      ]
    },
    {
      "cell_type": "code",
      "execution_count": null,
      "metadata": {},
      "outputs": [],
      "source": [
        "# Müşteri yaş analizi\n",
        "plt.figure(figsize=(10, 6))\n",
        "plt.hist(df['customer_age'], bins=10, edgecolor='black')\n",
        "plt.title('Müşteri Yaş Dağılımı')\n",
        "plt.xlabel('Yaş')\n",
        "plt.ylabel('Frekans')\n",
        "plt.grid(True, alpha=0.3)\n",
        "plt.show()\n",
        "\n",
        "print(f\"Ortalama müşteri yaşı: {df['customer_age'].mean():.1f}\")\n",
        "print(f\"En genç müşteri: {df['customer_age'].min()}\")\n",
        "print(f\"En yaşlı müşteri: {df['customer_age'].max()}\")"
      ]
    },
    {
      "cell_type": "code",
      "execution_count": null,
      "metadata": {},
      "outputs": [],
      "source": [
        "# Cinsiyet bazında analiz\n",
        "gender_sales = df.groupby('customer_gender')['total_amount'].sum()\n",
        "print(\"Cinsiyet bazında toplam satış:\")\n",
        "print(gender_sales)\n",
        "\n",
        "plt.figure(figsize=(8, 6))\n",
        "gender_sales.plot(kind='bar')\n",
        "plt.title('Cinsiyet Bazında Toplam Satış')\n",
        "plt.xlabel('Cinsiyet')\n",
        "plt.ylabel('Toplam Satış (TL)')\n",
        "plt.show()"
      ]
    },
    {
      "cell_type": "code",
      "execution_count": null,
      "metadata": {},
      "outputs": [],
      "source": [
        "# İade analizi\n",
        "return_analysis = df.groupby('is_returned')['total_amount'].sum()\n",
        "print(\"İade durumu bazında toplam satış:\")\n",
        "print(return_analysis)\n",
        "\n",
        "return_rate = df['is_returned'].mean() * 100\n",
        "print(f\"\\nİade oranı: %{return_rate:.1f}\")"
      ]
    },
    {
      "cell_type": "code",
      "execution_count": null,
      "metadata": {},
      "outputs": [],
      "source": [
        "# Değerlendirme analizi\n",
        "rating_analysis = df.groupby('rating')['total_amount'].sum()\n",
        "print(\"Değerlendirme bazında toplam satış:\")\n",
        "print(rating_analysis)\n",
        "\n",
        "plt.figure(figsize=(10, 6))\n",
        "rating_analysis.plot(kind='bar')\n",
        "plt.title('Değerlendirme Bazında Toplam Satış')\n",
        "plt.xlabel('Değerlendirme (1-5)')\n",
        "plt.ylabel('Toplam Satış (TL)')\n",
        "plt.show()\n",
        "\n",
        "avg_rating = df['rating'].mean()\n",
        "print(f\"Ortalama değerlendirme: {avg_rating:.2f}\")"
      ]
    },
    {
      "cell_type": "markdown",
      "metadata": {},
      "source": [
        "## Özet\n",
        "\n",
        "Bu analizde şu bulgulara ulaştık:\n",
        "\n",
        "1. **En çok satan kategori:** [Kategori adı]\n",
        "2. **En çok satış yapılan şehir:** [Şehir adı]\n",
        "3. **En popüler ödeme yöntemi:** [Ödeme yöntemi]\n",
        "4. **Ortalama müşteri yaşı:** [Yaş]\n",
        "5. **İade oranı:** [Oran]\n",
        "6. **Ortalama değerlendirme:** [Puan]\n",
        "\n",
        "Bu veriler e-ticaret stratejileri geliştirmek için kullanılabilir."
      ]
    }
  ],
  "metadata": {
    "kernelspec": {
      "display_name": "Python 3",
      "language": "python",
      "name": "python3"
    },
    "language_info": {
      "codemirror_mode": {
        "name": "ipython",
        "version": 3
      },
      "file_extension": ".py",
      "mimetype": "text/x-python",
      "name": "python",
      "nbconvert_exporter": "python",
      "pygments_lexer": "ipython3",
      "version": "3.8.5"
    }
  },
  "nbformat": 4,
  "nbformat_minor": 4
}