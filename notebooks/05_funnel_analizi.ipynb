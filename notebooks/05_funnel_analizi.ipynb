{
 "cells": [
  {
   "cell_type": "markdown",
   "metadata": {},
   "source": [
    "# 🎯 E-Ticaret Funnel Analizi\n",
    "\n",
    "**LinkedIn Tanımı:** \"Satışa giden yol nerede tıkanıyor?\"\n",
    "\n",
    "Bu notebook'ta e-ticaret satış funnel'ini analiz ederek:\n",
    "- 📊 Funnel aşamalarını görselleştireceğiz\n",
    "- 🔍 Drop-off noktalarını tespit edeceğiz\n",
    "- 📈 Conversion rate'leri hesaplayacağız\n",
    "- 🎯 İyileştirme önerileri sunacağız"
   ]
  },
  {
   "cell_type": "code",
   "execution_count": 11,
   "metadata": {},
   "outputs": [
    {
     "name": "stdout",
     "output_type": "stream",
     "text": [
      "✅ Kütüphaneler başarıyla import edildi!\n"
     ]
    }
   ],
   "source": [
    "# Gerekli kütüphaneleri import edelim\n",
    "import pandas as pd\n",
    "import numpy as np\n",
    "import matplotlib.pyplot as plt\n",
    "import seaborn as sns\n",
    "import plotly.graph_objects as go\n",
    "import plotly.express as px\n",
    "from plotly.subplots import make_subplots\n",
    "\n",
    "# Türkçe karakter desteği\n",
    "plt.rcParams['font.family'] = ['DejaVu Sans']\n",
    "plt.style.use('seaborn-v0_8')\n",
    "\n",
    "print(\"✅ Kütüphaneler başarıyla import edildi!\")"
   ]
  },
  {
   "cell_type": "code",
   "execution_count": 12,
   "metadata": {},
   "outputs": [
    {
     "name": "stdout",
     "output_type": "stream",
     "text": [
      "📊 Veri setleri yüklendi:\n",
      "- Funnel verisi: 365,823 kayıt\n",
      "- Kullanıcı davranışı: 1,000 kayıt\n",
      "- RFM analizi: 500 kayıt\n"
     ]
    }
   ],
   "source": [
    "# Veri setlerini yükle\n",
    "funnel_df = pd.read_csv('../data/raw/funnel_data.csv')\n",
    "behavior_df = pd.read_csv('../data/raw/user_behavior.csv')\n",
    "rfm_df = pd.read_csv('../data/raw/rfm_data.csv')\n",
    "\n",
    "print(\"📊 Veri setleri yüklendi:\")\n",
    "print(f\"- Funnel verisi: {len(funnel_df):,} kayıt\")\n",
    "print(f\"- Kullanıcı davranışı: {len(behavior_df):,} kayıt\")\n",
    "print(f\"- RFM analizi: {len(rfm_df):,} kayıt\")\n",
    "\n",
    "# Tarih sütununu datetime'a çevir\n",
    "funnel_df['date'] = pd.to_datetime(funnel_df['date'])\n",
    "behavior_df['date'] = pd.to_datetime(behavior_df['date'])\n",
    "rfm_df['last_purchase_date'] = pd.to_datetime(rfm_df['last_purchase_date'])"
   ]
  },
  {
   "cell_type": "code",
   "execution_count": 13,
   "metadata": {},
   "outputs": [
    {
     "name": "stdout",
     "output_type": "stream",
     "text": [
      "🎯 FUNNEL ANALİZİ - Satışa Giden Yol\n",
      "==================================================\n",
      "📊 Funnel Aşamaları:\n",
      "Görüntüleme: 365,823 kullanıcı\n",
      "Sepete Ekleme: 109,831 kullanıcı\n",
      "Ödeme Başlatma: 65,746 kullanıcı\n",
      "Tamamlama: 52,588 kullanıcı\n",
      "\n",
      "📈 Conversion Rate'ler:\n",
      "Sepete Ekleme: %30.0\n",
      "Ödeme Başlatma: %59.9\n",
      "Tamamlama: %80.0\n",
      "\n",
      "🚨 En Büyük Drop-off Noktası: Sepete Ekleme (%30.0)\n"
     ]
    }
   ],
   "source": [
    "# 1. FUNNEL ANALİZİ - Ana Funnel\n",
    "print(\"🎯 FUNNEL ANALİZİ - Satışa Giden Yol\")\n",
    "print(\"=\" * 50)\n",
    "\n",
    "# Funnel aşamalarını hesapla\n",
    "funnel_stages = {\n",
    "    'Görüntüleme': funnel_df['page_view'].sum(),\n",
    "    'Sepete Ekleme': funnel_df['add_to_cart'].sum(),\n",
    "    'Ödeme Başlatma': funnel_df['start_checkout'].sum(),\n",
    "    'Tamamlama': funnel_df['complete_purchase'].sum()\n",
    "}\n",
    "\n",
    "# Conversion rate'leri hesapla\n",
    "conversion_rates = {}\n",
    "previous_value = None\n",
    "for stage, value in funnel_stages.items():\n",
    "    if previous_value is not None:\n",
    "        rate = (value / previous_value) * 100\n",
    "        conversion_rates[stage] = rate\n",
    "    previous_value = value\n",
    "\n",
    "# Sonuçları yazdır\n",
    "print(\"📊 Funnel Aşamaları:\")\n",
    "for stage, value in funnel_stages.items():\n",
    "    print(f\"{stage}: {value:,} kullanıcı\")\n",
    "\n",
    "print(\"\\n📈 Conversion Rate'ler:\")\n",
    "for stage, rate in conversion_rates.items():\n",
    "    print(f\"{stage}: %{rate:.1f}\")\n",
    "\n",
    "# En büyük drop-off noktasını bul\n",
    "min_conversion = min(conversion_rates.values())\n",
    "bottleneck = [k for k, v in conversion_rates.items() if v == min_conversion][0]\n",
    "print(f\"\\n🚨 En Büyük Drop-off Noktası: {bottleneck} (%{min_conversion:.1f})\")"
   ]
  },
  {
   "cell_type": "code",
   "execution_count": 14,
   "metadata": {},
   "outputs": [
    {
     "data": {
      "application/vnd.plotly.v1+json": {
       "config": {
        "plotlyServerURL": "https://plot.ly"
       },
       "data": [
        {
         "connector": {
          "line": {
           "color": "royalblue",
           "width": 3
          }
         },
         "marker": {
          "color": [
           "#FF6B6B",
           "#4ECDC4",
           "#45B7D1",
           "#96CEB4"
          ]
         },
         "textinfo": "value+percent initial",
         "textposition": "inside",
         "type": "funnel",
         "x": [
          365823,
          109831,
          65746,
          52588
         ],
         "y": [
          "Görüntüleme",
          "Sepete Ekleme",
          "Ödeme Başlatma",
          "Tamamlama"
         ]
        }
       ],
       "layout": {
        "font": {
         "size": 14
        },
        "height": 500,
        "showlegend": false,
        "template": {
         "data": {
          "bar": [
           {
            "error_x": {
             "color": "#2a3f5f"
            },
            "error_y": {
             "color": "#2a3f5f"
            },
            "marker": {
             "line": {
              "color": "#E5ECF6",
              "width": 0.5
             },
             "pattern": {
              "fillmode": "overlay",
              "size": 10,
              "solidity": 0.2
             }
            },
            "type": "bar"
           }
          ],
          "barpolar": [
           {
            "marker": {
             "line": {
              "color": "#E5ECF6",
              "width": 0.5
             },
             "pattern": {
              "fillmode": "overlay",
              "size": 10,
              "solidity": 0.2
             }
            },
            "type": "barpolar"
           }
          ],
          "carpet": [
           {
            "aaxis": {
             "endlinecolor": "#2a3f5f",
             "gridcolor": "white",
             "linecolor": "white",
             "minorgridcolor": "white",
             "startlinecolor": "#2a3f5f"
            },
            "baxis": {
             "endlinecolor": "#2a3f5f",
             "gridcolor": "white",
             "linecolor": "white",
             "minorgridcolor": "white",
             "startlinecolor": "#2a3f5f"
            },
            "type": "carpet"
           }
          ],
          "choropleth": [
           {
            "colorbar": {
             "outlinewidth": 0,
             "ticks": ""
            },
            "type": "choropleth"
           }
          ],
          "contour": [
           {
            "colorbar": {
             "outlinewidth": 0,
             "ticks": ""
            },
            "colorscale": [
             [
              0,
              "#0d0887"
             ],
             [
              0.1111111111111111,
              "#46039f"
             ],
             [
              0.2222222222222222,
              "#7201a8"
             ],
             [
              0.3333333333333333,
              "#9c179e"
             ],
             [
              0.4444444444444444,
              "#bd3786"
             ],
             [
              0.5555555555555556,
              "#d8576b"
             ],
             [
              0.6666666666666666,
              "#ed7953"
             ],
             [
              0.7777777777777778,
              "#fb9f3a"
             ],
             [
              0.8888888888888888,
              "#fdca26"
             ],
             [
              1,
              "#f0f921"
             ]
            ],
            "type": "contour"
           }
          ],
          "contourcarpet": [
           {
            "colorbar": {
             "outlinewidth": 0,
             "ticks": ""
            },
            "type": "contourcarpet"
           }
          ],
          "heatmap": [
           {
            "colorbar": {
             "outlinewidth": 0,
             "ticks": ""
            },
            "colorscale": [
             [
              0,
              "#0d0887"
             ],
             [
              0.1111111111111111,
              "#46039f"
             ],
             [
              0.2222222222222222,
              "#7201a8"
             ],
             [
              0.3333333333333333,
              "#9c179e"
             ],
             [
              0.4444444444444444,
              "#bd3786"
             ],
             [
              0.5555555555555556,
              "#d8576b"
             ],
             [
              0.6666666666666666,
              "#ed7953"
             ],
             [
              0.7777777777777778,
              "#fb9f3a"
             ],
             [
              0.8888888888888888,
              "#fdca26"
             ],
             [
              1,
              "#f0f921"
             ]
            ],
            "type": "heatmap"
           }
          ],
          "histogram": [
           {
            "marker": {
             "pattern": {
              "fillmode": "overlay",
              "size": 10,
              "solidity": 0.2
             }
            },
            "type": "histogram"
           }
          ],
          "histogram2d": [
           {
            "colorbar": {
             "outlinewidth": 0,
             "ticks": ""
            },
            "colorscale": [
             [
              0,
              "#0d0887"
             ],
             [
              0.1111111111111111,
              "#46039f"
             ],
             [
              0.2222222222222222,
              "#7201a8"
             ],
             [
              0.3333333333333333,
              "#9c179e"
             ],
             [
              0.4444444444444444,
              "#bd3786"
             ],
             [
              0.5555555555555556,
              "#d8576b"
             ],
             [
              0.6666666666666666,
              "#ed7953"
             ],
             [
              0.7777777777777778,
              "#fb9f3a"
             ],
             [
              0.8888888888888888,
              "#fdca26"
             ],
             [
              1,
              "#f0f921"
             ]
            ],
            "type": "histogram2d"
           }
          ],
          "histogram2dcontour": [
           {
            "colorbar": {
             "outlinewidth": 0,
             "ticks": ""
            },
            "colorscale": [
             [
              0,
              "#0d0887"
             ],
             [
              0.1111111111111111,
              "#46039f"
             ],
             [
              0.2222222222222222,
              "#7201a8"
             ],
             [
              0.3333333333333333,
              "#9c179e"
             ],
             [
              0.4444444444444444,
              "#bd3786"
             ],
             [
              0.5555555555555556,
              "#d8576b"
             ],
             [
              0.6666666666666666,
              "#ed7953"
             ],
             [
              0.7777777777777778,
              "#fb9f3a"
             ],
             [
              0.8888888888888888,
              "#fdca26"
             ],
             [
              1,
              "#f0f921"
             ]
            ],
            "type": "histogram2dcontour"
           }
          ],
          "mesh3d": [
           {
            "colorbar": {
             "outlinewidth": 0,
             "ticks": ""
            },
            "type": "mesh3d"
           }
          ],
          "parcoords": [
           {
            "line": {
             "colorbar": {
              "outlinewidth": 0,
              "ticks": ""
             }
            },
            "type": "parcoords"
           }
          ],
          "pie": [
           {
            "automargin": true,
            "type": "pie"
           }
          ],
          "scatter": [
           {
            "fillpattern": {
             "fillmode": "overlay",
             "size": 10,
             "solidity": 0.2
            },
            "type": "scatter"
           }
          ],
          "scatter3d": [
           {
            "line": {
             "colorbar": {
              "outlinewidth": 0,
              "ticks": ""
             }
            },
            "marker": {
             "colorbar": {
              "outlinewidth": 0,
              "ticks": ""
             }
            },
            "type": "scatter3d"
           }
          ],
          "scattercarpet": [
           {
            "marker": {
             "colorbar": {
              "outlinewidth": 0,
              "ticks": ""
             }
            },
            "type": "scattercarpet"
           }
          ],
          "scattergeo": [
           {
            "marker": {
             "colorbar": {
              "outlinewidth": 0,
              "ticks": ""
             }
            },
            "type": "scattergeo"
           }
          ],
          "scattergl": [
           {
            "marker": {
             "colorbar": {
              "outlinewidth": 0,
              "ticks": ""
             }
            },
            "type": "scattergl"
           }
          ],
          "scattermap": [
           {
            "marker": {
             "colorbar": {
              "outlinewidth": 0,
              "ticks": ""
             }
            },
            "type": "scattermap"
           }
          ],
          "scattermapbox": [
           {
            "marker": {
             "colorbar": {
              "outlinewidth": 0,
              "ticks": ""
             }
            },
            "type": "scattermapbox"
           }
          ],
          "scatterpolar": [
           {
            "marker": {
             "colorbar": {
              "outlinewidth": 0,
              "ticks": ""
             }
            },
            "type": "scatterpolar"
           }
          ],
          "scatterpolargl": [
           {
            "marker": {
             "colorbar": {
              "outlinewidth": 0,
              "ticks": ""
             }
            },
            "type": "scatterpolargl"
           }
          ],
          "scatterternary": [
           {
            "marker": {
             "colorbar": {
              "outlinewidth": 0,
              "ticks": ""
             }
            },
            "type": "scatterternary"
           }
          ],
          "surface": [
           {
            "colorbar": {
             "outlinewidth": 0,
             "ticks": ""
            },
            "colorscale": [
             [
              0,
              "#0d0887"
             ],
             [
              0.1111111111111111,
              "#46039f"
             ],
             [
              0.2222222222222222,
              "#7201a8"
             ],
             [
              0.3333333333333333,
              "#9c179e"
             ],
             [
              0.4444444444444444,
              "#bd3786"
             ],
             [
              0.5555555555555556,
              "#d8576b"
             ],
             [
              0.6666666666666666,
              "#ed7953"
             ],
             [
              0.7777777777777778,
              "#fb9f3a"
             ],
             [
              0.8888888888888888,
              "#fdca26"
             ],
             [
              1,
              "#f0f921"
             ]
            ],
            "type": "surface"
           }
          ],
          "table": [
           {
            "cells": {
             "fill": {
              "color": "#EBF0F8"
             },
             "line": {
              "color": "white"
             }
            },
            "header": {
             "fill": {
              "color": "#C8D4E3"
             },
             "line": {
              "color": "white"
             }
            },
            "type": "table"
           }
          ]
         },
         "layout": {
          "annotationdefaults": {
           "arrowcolor": "#2a3f5f",
           "arrowhead": 0,
           "arrowwidth": 1
          },
          "autotypenumbers": "strict",
          "coloraxis": {
           "colorbar": {
            "outlinewidth": 0,
            "ticks": ""
           }
          },
          "colorscale": {
           "diverging": [
            [
             0,
             "#8e0152"
            ],
            [
             0.1,
             "#c51b7d"
            ],
            [
             0.2,
             "#de77ae"
            ],
            [
             0.3,
             "#f1b6da"
            ],
            [
             0.4,
             "#fde0ef"
            ],
            [
             0.5,
             "#f7f7f7"
            ],
            [
             0.6,
             "#e6f5d0"
            ],
            [
             0.7,
             "#b8e186"
            ],
            [
             0.8,
             "#7fbc41"
            ],
            [
             0.9,
             "#4d9221"
            ],
            [
             1,
             "#276419"
            ]
           ],
           "sequential": [
            [
             0,
             "#0d0887"
            ],
            [
             0.1111111111111111,
             "#46039f"
            ],
            [
             0.2222222222222222,
             "#7201a8"
            ],
            [
             0.3333333333333333,
             "#9c179e"
            ],
            [
             0.4444444444444444,
             "#bd3786"
            ],
            [
             0.5555555555555556,
             "#d8576b"
            ],
            [
             0.6666666666666666,
             "#ed7953"
            ],
            [
             0.7777777777777778,
             "#fb9f3a"
            ],
            [
             0.8888888888888888,
             "#fdca26"
            ],
            [
             1,
             "#f0f921"
            ]
           ],
           "sequentialminus": [
            [
             0,
             "#0d0887"
            ],
            [
             0.1111111111111111,
             "#46039f"
            ],
            [
             0.2222222222222222,
             "#7201a8"
            ],
            [
             0.3333333333333333,
             "#9c179e"
            ],
            [
             0.4444444444444444,
             "#bd3786"
            ],
            [
             0.5555555555555556,
             "#d8576b"
            ],
            [
             0.6666666666666666,
             "#ed7953"
            ],
            [
             0.7777777777777778,
             "#fb9f3a"
            ],
            [
             0.8888888888888888,
             "#fdca26"
            ],
            [
             1,
             "#f0f921"
            ]
           ]
          },
          "colorway": [
           "#636efa",
           "#EF553B",
           "#00cc96",
           "#ab63fa",
           "#FFA15A",
           "#19d3f3",
           "#FF6692",
           "#B6E880",
           "#FF97FF",
           "#FECB52"
          ],
          "font": {
           "color": "#2a3f5f"
          },
          "geo": {
           "bgcolor": "white",
           "lakecolor": "white",
           "landcolor": "#E5ECF6",
           "showlakes": true,
           "showland": true,
           "subunitcolor": "white"
          },
          "hoverlabel": {
           "align": "left"
          },
          "hovermode": "closest",
          "mapbox": {
           "style": "light"
          },
          "paper_bgcolor": "white",
          "plot_bgcolor": "#E5ECF6",
          "polar": {
           "angularaxis": {
            "gridcolor": "white",
            "linecolor": "white",
            "ticks": ""
           },
           "bgcolor": "#E5ECF6",
           "radialaxis": {
            "gridcolor": "white",
            "linecolor": "white",
            "ticks": ""
           }
          },
          "scene": {
           "xaxis": {
            "backgroundcolor": "#E5ECF6",
            "gridcolor": "white",
            "gridwidth": 2,
            "linecolor": "white",
            "showbackground": true,
            "ticks": "",
            "zerolinecolor": "white"
           },
           "yaxis": {
            "backgroundcolor": "#E5ECF6",
            "gridcolor": "white",
            "gridwidth": 2,
            "linecolor": "white",
            "showbackground": true,
            "ticks": "",
            "zerolinecolor": "white"
           },
           "zaxis": {
            "backgroundcolor": "#E5ECF6",
            "gridcolor": "white",
            "gridwidth": 2,
            "linecolor": "white",
            "showbackground": true,
            "ticks": "",
            "zerolinecolor": "white"
           }
          },
          "shapedefaults": {
           "line": {
            "color": "#2a3f5f"
           }
          },
          "ternary": {
           "aaxis": {
            "gridcolor": "white",
            "linecolor": "white",
            "ticks": ""
           },
           "baxis": {
            "gridcolor": "white",
            "linecolor": "white",
            "ticks": ""
           },
           "bgcolor": "#E5ECF6",
           "caxis": {
            "gridcolor": "white",
            "linecolor": "white",
            "ticks": ""
           }
          },
          "title": {
           "x": 0.05
          },
          "xaxis": {
           "automargin": true,
           "gridcolor": "white",
           "linecolor": "white",
           "ticks": "",
           "title": {
            "standoff": 15
           },
           "zerolinecolor": "white",
           "zerolinewidth": 2
          },
          "yaxis": {
           "automargin": true,
           "gridcolor": "white",
           "linecolor": "white",
           "ticks": "",
           "title": {
            "standoff": 15
           },
           "zerolinecolor": "white",
           "zerolinewidth": 2
          }
         }
        },
        "title": {
         "text": "🛒 E-Ticaret Satış Funnel'i"
        }
       }
      },
      "image/png": "[encoded data removed]"
     },
     "metadata": {},
     "output_type": "display_data"
    },
    {
     "name": "stdout",
     "output_type": "stream",
     "text": [
      "✅ Funnel görselleştirmesi tamamlandı!\n"
     ]
    }
   ],
   "source": [
    "# 2. FUNNEL GÖRSELLEŞTİRME\n",
    "fig = go.Figure(go.Funnel(\n",
    "    y=list(funnel_stages.keys()),\n",
    "    x=list(funnel_stages.values()),\n",
    "    textinfo=\"value+percent initial\",\n",
    "    textposition=\"inside\",\n",
    "    marker={\"color\": [\"#FF6B6B\", \"#4ECDC4\", \"#45B7D1\", \"#96CEB4\"]},\n",
    "    connector={\"line\": {\"color\": \"royalblue\", \"width\": 3}}\n",
    "))\n",
    "\n",
    "fig.update_layout(\n",
    "    title=\"🛒 E-Ticaret Satış Funnel'i\",\n",
    "    font=dict(size=14),\n",
    "    showlegend=False,\n",
    "    height=500\n",
    ")\n",
    "\n",
    "fig.show()\n",
    "\n",
    "print(\"✅ Funnel görselleştirmesi tamamlandı!\")"
   ]
  },
  {
   "cell_type": "code",
   "execution_count": 15,
   "metadata": {},
   "outputs": [
    {
     "name": "stdout",
     "output_type": "stream",
     "text": [
      "\n",
      "📊 KATEGORİ BAZLI FUNNEL ANALİZİ\n",
      "==================================================\n",
      "🏆 En İyi Kategori: Spor (%14.6 conversion)\n",
      "⚠️ En Kötü Kategori: Elektronik (%14.2 conversion)\n",
      "\n",
      "📈 Kategori Conversion Rate'leri:\n",
      "Elektronik: %14.2\n",
      "Ev & Yaşam: %14.5\n",
      "Giyim: %14.2\n",
      "Kitap: %14.4\n",
      "Kozmetik: %14.2\n",
      "Spor: %14.6\n"
     ]
    }
   ],
   "source": [
    "# 3. KATEGORİ BAZLI FUNNEL ANALİZİ\n",
    "print(\"\\n📊 KATEGORİ BAZLI FUNNEL ANALİZİ\")\n",
    "print(\"=\" * 50)\n",
    "\n",
    "# Kategori bazlı funnel analizi\n",
    "category_funnel = funnel_df.groupby('category').agg({\n",
    "    'page_view': 'sum',\n",
    "    'add_to_cart': 'sum',\n",
    "    'start_checkout': 'sum',\n",
    "    'complete_purchase': 'sum'\n",
    "}).reset_index()\n",
    "\n",
    "# Conversion rate'leri hesapla\n",
    "category_funnel['cart_conversion'] = (category_funnel['add_to_cart'] / category_funnel['page_view']) * 100\n",
    "category_funnel['checkout_conversion'] = (category_funnel['start_checkout'] / category_funnel['add_to_cart']) * 100\n",
    "category_funnel['purchase_conversion'] = (category_funnel['complete_purchase'] / category_funnel['start_checkout']) * 100\n",
    "category_funnel['overall_conversion'] = (category_funnel['complete_purchase'] / category_funnel['page_view']) * 100\n",
    "\n",
    "# En iyi ve en kötü kategorileri bul\n",
    "best_category = category_funnel.loc[category_funnel['overall_conversion'].idxmax()]\n",
    "worst_category = category_funnel.loc[category_funnel['overall_conversion'].idxmin()]\n",
    "\n",
    "print(f\"🏆 En İyi Kategori: {best_category['category']} (%{best_category['overall_conversion']:.1f} conversion)\")\n",
    "print(f\"⚠️ En Kötü Kategori: {worst_category['category']} (%{worst_category['overall_conversion']:.1f} conversion)\")\n",
    "\n",
    "# Kategori bazlı conversion rate'leri göster\n",
    "print(\"\\n📈 Kategori Conversion Rate'leri:\")\n",
    "for _, row in category_funnel.iterrows():\n",
    "    print(f\"{row['category']}: %{row['overall_conversion']:.1f}\")"
   ]
  },
  {
   "cell_type": "code",
   "execution_count": 16,
   "metadata": {},
   "outputs": [
    {
     "name": "stdout",
     "output_type": "stream",
     "text": [
      "\n",
      "👥 RFM ANALİZİ - Müşteri Segmentasyonu\n",
      "==================================================\n",
      "📊 Müşteri Segmentleri:\n",
      "Loyal Customers: 324 müşteri (%64.8)\n",
      "Champions: 87 müşteri (%17.4)\n",
      "At Risk: 67 müşteri (%13.4)\n",
      "Lost: 22 müşteri (%4.4)\n",
      "\n",
      "📈 Segment Ortalamaları:\n",
      "                 recency_days  frequency  monetary\n",
      "segment                                           \n",
      "At Risk                 56.45       3.03    201.20\n",
      "Champions               12.47       4.39    382.50\n",
      "Lost                   113.77       4.55    226.42\n",
      "Loyal Customers         23.05       4.14    152.24\n",
      "\n",
      "💰 Champions segmenti toplam değerin %32.9'ini oluşturuyor\n"
     ]
    }
   ],
   "source": [
    "# 4. RFM ANALİZİ - Müşteri Segmentasyonu\n",
    "print(\"\\n👥 RFM ANALİZİ - Müşteri Segmentasyonu\")\n",
    "print(\"=\" * 50)\n",
    "\n",
    "# RFM segmentlerinin dağılımı\n",
    "segment_counts = rfm_df['segment'].value_counts()\n",
    "segment_percentages = (segment_counts / len(rfm_df)) * 100\n",
    "\n",
    "print(\"📊 Müşteri Segmentleri:\")\n",
    "for segment, count in segment_counts.items():\n",
    "    percentage = segment_percentages[segment]\n",
    "    print(f\"{segment}: {count} müşteri (%{percentage:.1f})\")\n",
    "\n",
    "# Segment bazlı ortalama değerler\n",
    "segment_metrics = rfm_df.groupby('segment').agg({\n",
    "    'recency_days': 'mean',\n",
    "    'frequency': 'mean',\n",
    "    'monetary': 'mean'\n",
    "}).round(2)\n",
    "\n",
    "print(\"\\n📈 Segment Ortalamaları:\")\n",
    "print(segment_metrics)\n",
    "\n",
    "# En değerli segment\n",
    "champions = rfm_df[rfm_df['segment'] == 'Champions']\n",
    "champions_value = champions['monetary'].sum()\n",
    "total_value = rfm_df['monetary'].sum()\n",
    "champions_percentage = (champions_value / total_value) * 100\n",
    "\n",
    "print(f\"\\n💰 Champions segmenti toplam değerin %{champions_percentage:.1f}'ini oluşturuyor\")"
   ]
  },
  {
   "cell_type": "code",
   "execution_count": 17,
   "metadata": {},
   "outputs": [
    {
     "name": "stdout",
     "output_type": "stream",
     "text": [
      "\n",
      "🎯 KULLANICI DAVRANIŞI ANALİZİ\n",
      "==================================================\n",
      "⏱️ Ortalama Session Süresi: 5.1 dakika\n",
      "📄 Ortalama Görüntülenen Sayfa: 7.9 sayfa\n",
      "📉 Ortalama Bounce Rate: %19.2\n",
      "🔄 Return Visitor Rate: %34.7\n",
      "\n",
      "📊 Session Süresi vs Satın Alma Korelasyonu: 0.015\n",
      "💰 Return Visitor Ortalama Satın Alma: 136.09 TL\n",
      "💰 New Visitor Ortalama Satın Alma: 0.00 TL\n"
     ]
    }
   ],
   "source": [
    "# 5. KULLANICI DAVRANIŞI ANALİZİ\n",
    "print(\"\\n🎯 KULLANICI DAVRANIŞI ANALİZİ\")\n",
    "print(\"=\" * 50)\n",
    "\n",
    "# Session analizi\n",
    "avg_session_duration = behavior_df['session_duration'].mean() / 60  # dakika\n",
    "avg_pages_viewed = behavior_df['pages_viewed'].mean()\n",
    "avg_bounce_rate = behavior_df['bounce_rate'].mean() * 100\n",
    "return_visitor_rate = behavior_df['return_visitor'].mean() * 100\n",
    "\n",
    "print(f\"⏱️ Ortalama Session Süresi: {avg_session_duration:.1f} dakika\")\n",
    "print(f\"📄 Ortalama Görüntülenen Sayfa: {avg_pages_viewed:.1f} sayfa\")\n",
    "print(f\"📉 Ortalama Bounce Rate: %{avg_bounce_rate:.1f}\")\n",
    "print(f\"🔄 Return Visitor Rate: %{return_visitor_rate:.1f}\")\n",
    "\n",
    "# Session süresi vs satın alma değeri korelasyonu\n",
    "correlation = behavior_df['session_duration'].corr(behavior_df['purchase_value'])\n",
    "print(f\"\\n📊 Session Süresi vs Satın Alma Korelasyonu: {correlation:.3f}\")\n",
    "\n",
    "# Return visitor analizi\n",
    "return_visitors = behavior_df[behavior_df['return_visitor'] == 1]\n",
    "new_visitors = behavior_df[behavior_df['return_visitor'] == 0]\n",
    "\n",
    "avg_return_purchase = return_visitors['purchase_value'].mean()\n",
    "avg_new_purchase = new_visitors['purchase_value'].mean()\n",
    "\n",
    "print(f\"💰 Return Visitor Ortalama Satın Alma: {avg_return_purchase:.2f} TL\")\n",
    "print(f\"💰 New Visitor Ortalama Satın Alma: {avg_new_purchase:.2f} TL\")"
   ]
  },
  {
   "cell_type": "code",
   "execution_count": 18,
   "metadata": {},
   "outputs": [
    {
     "name": "stdout",
     "output_type": "stream",
     "text": [
      "\n",
      "📈 ZAMAN SERİSİ ANALİZİ - Trend Analizi\n",
      "==================================================\n",
      "📊 Ortalama Günlük Conversion Rate: %14.39\n",
      "📈 En Yüksek Günlük Conversion: %18.41\n",
      "📉 En Düşük Günlük Conversion: %11.38\n",
      "\n",
      "🌞 En İyi Ay: 8. ay (%14.87 conversion)\n",
      "❄️ En Kötü Ay: 6. ay (%14.07 conversion)\n"
     ]
    }
   ],
   "source": [
    "# 6. ZAMAN SERİSİ ANALİZİ - Trend Analizi\n",
    "print(\"\\n📈 ZAMAN SERİSİ ANALİZİ - Trend Analizi\")\n",
    "print(\"=\" * 50)\n",
    "\n",
    "# Günlük conversion rate trendi\n",
    "daily_funnel = funnel_df.groupby('date').agg({\n",
    "    'page_view': 'sum',\n",
    "    'add_to_cart': 'sum',\n",
    "    'start_checkout': 'sum',\n",
    "    'complete_purchase': 'sum'\n",
    "}).reset_index()\n",
    "\n",
    "daily_funnel['conversion_rate'] = (daily_funnel['complete_purchase'] / daily_funnel['page_view']) * 100\n",
    "\n",
    "# Haftalık trend\n",
    "daily_funnel['week'] = daily_funnel['date'].dt.isocalendar().week\n",
    "weekly_trend = daily_funnel.groupby('week')['conversion_rate'].mean()\n",
    "\n",
    "print(f\"📊 Ortalama Günlük Conversion Rate: %{daily_funnel['conversion_rate'].mean():.2f}\")\n",
    "print(f\"📈 En Yüksek Günlük Conversion: %{daily_funnel['conversion_rate'].max():.2f}\")\n",
    "print(f\"📉 En Düşük Günlük Conversion: %{daily_funnel['conversion_rate'].min():.2f}\")\n",
    "\n",
    "# Mevsimsel analiz\n",
    "daily_funnel['month'] = daily_funnel['date'].dt.month\n",
    "monthly_trend = daily_funnel.groupby('month')['conversion_rate'].mean()\n",
    "\n",
    "best_month = monthly_trend.idxmax()\n",
    "worst_month = monthly_trend.idxmin()\n",
    "\n",
    "print(f\"\\n🌞 En İyi Ay: {best_month}. ay (%{monthly_trend[best_month]:.2f} conversion)\")\n",
    "print(f\"❄️ En Kötü Ay: {worst_month}. ay (%{monthly_trend[worst_month]:.2f} conversion)\")"
   ]
  },
  {
   "cell_type": "code",
   "execution_count": 19,
   "metadata": {},
   "outputs": [
    {
     "name": "stdout",
     "output_type": "stream",
     "text": [
      "\n",
      "🎯 İŞ ÖNERİLERİ VE STRATEJİLER\n",
      "==================================================\n",
      "🚀 FUNNEL İYİLEŞTİRME ÖNERİLERİ:\n",
      "1. Sepete Ekleme aşamasında %30.0 conversion rate'i artır\n",
      "2. Elektronik kategorisinde ürün çeşitliliği artır\n",
      "3. Return visitor oranını %34.7'den %39.7'e çıkar\n",
      "4. Session süresini 5.1 dakikadan 7.1 dakikaya çıkar\n",
      "\n",
      "👥 MÜŞTERİ SEGMENTASYONU ÖNERİLERİ:\n",
      "1. Champions segmentine özel VIP kampanyalar (%32.9 değer)\n",
      "2. At Risk müşterileri için win-back kampanyaları\n",
      "3. Lost müşterileri için re-engagement stratejileri\n",
      "\n",
      "📅 ZAMAN BAZLI ÖNERİLER:\n",
      "1. 6. ay için özel kampanyalar\n",
      "2. 8. ay performansını diğer aylara yay\n",
      "3. Hafta sonu vs hafta içi farklı stratejiler\n",
      "\n",
      "⚙️ TEKNİK ÖNERİLER:\n",
      "1. Bounce rate'i %19.2'den %14.2'e düşür\n",
      "2. Sayfa yükleme hızını optimize et\n",
      "3. Mobile-first tasarım iyileştirmeleri\n",
      "4. A/B testing ile conversion rate artırımı\n"
     ]
    }
   ],
   "source": [
    "# 7. İŞ ÖNERİLERİ VE STRATEJİLER\n",
    "print(\"\\n🎯 İŞ ÖNERİLERİ VE STRATEJİLER\")\n",
    "print(\"=\" * 50)\n",
    "\n",
    "# Funnel iyileştirme önerileri\n",
    "print(\"🚀 FUNNEL İYİLEŞTİRME ÖNERİLERİ:\")\n",
    "print(f\"1. {bottleneck} aşamasında %{min_conversion:.1f} conversion rate'i artır\")\n",
    "print(f\"2. {worst_category['category']} kategorisinde ürün çeşitliliği artır\")\n",
    "print(f\"3. Return visitor oranını %{return_visitor_rate:.1f}'den %{return_visitor_rate + 5:.1f}'e çıkar\")\n",
    "print(f\"4. Session süresini {avg_session_duration:.1f} dakikadan {avg_session_duration + 2:.1f} dakikaya çıkar\")\n",
    "\n",
    "# Müşteri segmentasyonu önerileri\n",
    "print(\"\\n👥 MÜŞTERİ SEGMENTASYONU ÖNERİLERİ:\")\n",
    "print(f\"1. Champions segmentine özel VIP kampanyalar (%{champions_percentage:.1f} değer)\")\n",
    "print(f\"2. At Risk müşterileri için win-back kampanyaları\")\n",
    "print(f\"3. Lost müşterileri için re-engagement stratejileri\")\n",
    "\n",
    "# Zaman bazlı öneriler\n",
    "print(\"\\n📅 ZAMAN BAZLI ÖNERİLER:\")\n",
    "print(f\"1. {worst_month}. ay için özel kampanyalar\")\n",
    "print(f\"2. {best_month}. ay performansını diğer aylara yay\")\n",
    "print(f\"3. Hafta sonu vs hafta içi farklı stratejiler\")\n",
    "\n",
    "# Teknik öneriler\n",
    "print(\"\\n⚙️ TEKNİK ÖNERİLER:\")\n",
    "print(f\"1. Bounce rate'i %{avg_bounce_rate:.1f}'den %{avg_bounce_rate - 5:.1f}'e düşür\")\n",
    "print(f\"2. Sayfa yükleme hızını optimize et\")\n",
    "print(f\"3. Mobile-first tasarım iyileştirmeleri\")\n",
    "print(f\"4. A/B testing ile conversion rate artırımı\")"
   ]
  },
  {
   "cell_type": "code",
   "execution_count": 20,
   "metadata": {},
   "outputs": [
    {
     "name": "stdout",
     "output_type": "stream",
     "text": [
      "\n",
      "📊 ÖZET VE KPI'LAR\n",
      "==================================================\n",
      "🎯 ANA KPI'LAR:\n",
      "• Genel Conversion Rate: %14.38\n",
      "• Ortalama Sipariş Değeri: 202.13 TL\n",
      "• Müşteri Yaşam Boyu Değeri: 818.61 TL\n",
      "• Return Visitor Rate: %34.7\n",
      "• Ortalama Session Süresi: 5.1 dakika\n",
      "\n",
      "🏆 BAŞARI METRİKLERİ:\n",
      "• En İyi Kategori: Spor (%14.6)\n",
      "• En İyi Ay: 8. ay (%14.87)\n",
      "• Champions Segmenti: %32.9 değer\n",
      "\n",
      "🚨 İYİLEŞTİRME ALANLARI:\n",
      "• En Büyük Drop-off: Sepete Ekleme (%30.0)\n",
      "• En Kötü Kategori: Elektronik (%14.2)\n",
      "• En Kötü Ay: 6. ay (%14.07)\n",
      "\n",
      "✅ Bu analiz LinkedIn tanımına uygun kapsamlı bir e-ticaret funnel analizi sunuyor!\n"
     ]
    }
   ],
   "source": [
    "# 8. ÖZET VE KPI'LAR\n",
    "print(\"\\n📊 ÖZET VE KPI'LAR\")\n",
    "print(\"=\" * 50)\n",
    "\n",
    "# Ana KPI'lar\n",
    "overall_conversion = (funnel_stages['Tamamlama'] / funnel_stages['Görüntüleme']) * 100\n",
    "avg_order_value = rfm_df['monetary'].mean()\n",
    "customer_lifetime_value = avg_order_value * rfm_df['frequency'].mean()\n",
    "\n",
    "print(\"🎯 ANA KPI'LAR:\")\n",
    "print(f\"• Genel Conversion Rate: %{overall_conversion:.2f}\")\n",
    "print(f\"• Ortalama Sipariş Değeri: {avg_order_value:.2f} TL\")\n",
    "print(f\"• Müşteri Yaşam Boyu Değeri: {customer_lifetime_value:.2f} TL\")\n",
    "print(f\"• Return Visitor Rate: %{return_visitor_rate:.1f}\")\n",
    "print(f\"• Ortalama Session Süresi: {avg_session_duration:.1f} dakika\")\n",
    "\n",
    "print(\"\\n🏆 BAŞARI METRİKLERİ:\")\n",
    "print(f\"• En İyi Kategori: {best_category['category']} (%{best_category['overall_conversion']:.1f})\")\n",
    "print(f\"• En İyi Ay: {best_month}. ay (%{monthly_trend[best_month]:.2f})\")\n",
    "print(f\"• Champions Segmenti: %{champions_percentage:.1f} değer\")\n",
    "\n",
    "print(\"\\n🚨 İYİLEŞTİRME ALANLARI:\")\n",
    "print(f\"• En Büyük Drop-off: {bottleneck} (%{min_conversion:.1f})\")\n",
    "print(f\"• En Kötü Kategori: {worst_category['category']} (%{worst_category['overall_conversion']:.1f})\")\n",
    "print(f\"• En Kötü Ay: {worst_month}. ay (%{monthly_trend[worst_month]:.2f})\")\n",
    "\n",
    "print(\"\\n✅ Bu analiz LinkedIn tanımına uygun kapsamlı bir e-ticaret funnel analizi sunuyor!\")"
   ]
  }
 ],
 "metadata": {
  "kernelspec": {
   "display_name": "Python 3 (ipykernel)",
   "language": "python",
   "name": "python3"
  },
  "language_info": {
   "codemirror_mode": {
    "name": "ipython",
    "version": 3
   },
   "file_extension": ".py",
   "mimetype": "text/x-python",
   "name": "python",
   "nbconvert_exporter": "python",
   "pygments_lexer": "ipython3",
   "version": "3.13.1"
  }
 },
 "nbformat": 4,
 "nbformat_minor": 4
}
